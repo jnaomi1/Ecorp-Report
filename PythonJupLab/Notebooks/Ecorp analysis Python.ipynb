{
 "cells": [
  {
   "cell_type": "markdown",
   "id": "6ed2b957-2ef0-4b96-bd64-d319d3f67d25",
   "metadata": {},
   "source": [
    "# **Ecorp Analysis: Data Analysis Python Project**"
   ]
  },
  {
   "cell_type": "markdown",
   "id": "26dfed15-640c-4982-b679-cbe2ca52cd6c",
   "metadata": {},
   "source": [
    "*Developed by Janita M.* "
   ]
  },
  {
   "cell_type": "markdown",
   "id": "79ef4464-8c0c-4e63-b759-dda65243d914",
   "metadata": {},
   "source": [
    "### **1. Import Libraries:**"
   ]
  },
  {
   "cell_type": "code",
   "execution_count": 1,
   "id": "5b8401ba-b5db-48b3-bc67-b0a87052bfa8",
   "metadata": {},
   "outputs": [],
   "source": [
    "import pandas as pd\n",
    "import numpy as np \n",
    "import matplotlib.pyplot as plt\n",
    "import seaborn as sns\n",
    "from datetime import date"
   ]
  },
  {
   "cell_type": "markdown",
   "id": "997efed4-fe02-4cb2-bcaf-d03461ec6b1e",
   "metadata": {},
   "source": [
    "### **2. Import Raw Data:**"
   ]
  },
  {
   "cell_type": "code",
   "execution_count": 3,
   "id": "d0bea894-acfa-480d-be60-6a9769d3a7aa",
   "metadata": {},
   "outputs": [],
   "source": [
    "df = pd.read_excel('/Users/jesusislord247/Desktop/ecorp Project Folder/ecorp_customer_info_dataset_USE.xlsx')"
   ]
  },
  {
   "cell_type": "markdown",
   "id": "48750f4b-0733-43b1-8412-95e0da030ae7",
   "metadata": {},
   "source": [
    "### **3. Sample Data:**"
   ]
  },
  {
   "cell_type": "markdown",
   "id": "f23a39aa-aad4-4c3c-9696-158d12e18ba3",
   "metadata": {},
   "source": [
    "#### **Top 10 Rows of Data**"
   ]
  },
  {
   "cell_type": "code",
   "execution_count": 6,
   "id": "d31281e3-6bea-4631-9b91-48bb9fc0a753",
   "metadata": {
    "scrolled": true
   },
   "outputs": [
    {
     "data": {
      "text/html": [
       "<div>\n",
       "<style scoped>\n",
       "    .dataframe tbody tr th:only-of-type {\n",
       "        vertical-align: middle;\n",
       "    }\n",
       "\n",
       "    .dataframe tbody tr th {\n",
       "        vertical-align: top;\n",
       "    }\n",
       "\n",
       "    .dataframe thead th {\n",
       "        text-align: right;\n",
       "    }\n",
       "</style>\n",
       "<table border=\"1\" class=\"dataframe\">\n",
       "  <thead>\n",
       "    <tr style=\"text-align: right;\">\n",
       "      <th></th>\n",
       "      <th>Customer ID</th>\n",
       "      <th>ZipCode</th>\n",
       "      <th>Income Level</th>\n",
       "      <th>Housing Type</th>\n",
       "      <th>Join Date</th>\n",
       "      <th>Program Name</th>\n",
       "      <th>Enrollment Date</th>\n",
       "      <th>Program Cost</th>\n",
       "      <th>Usage Date</th>\n",
       "      <th>Kwh Used</th>\n",
       "      <th>Temperature F</th>\n",
       "      <th>TemperatureCategory</th>\n",
       "      <th>kWh_Pre_Program</th>\n",
       "      <th>kWh_Post_Program</th>\n",
       "      <th>Total kWh Saved</th>\n",
       "    </tr>\n",
       "  </thead>\n",
       "  <tbody>\n",
       "    <tr>\n",
       "      <th>0</th>\n",
       "      <td>CUST0001</td>\n",
       "      <td>60565.0</td>\n",
       "      <td>Medium</td>\n",
       "      <td>Multi-Family</td>\n",
       "      <td>2022-04-04</td>\n",
       "      <td>NaN</td>\n",
       "      <td>NaT</td>\n",
       "      <td>NaN</td>\n",
       "      <td>2022-01-01</td>\n",
       "      <td>959.30</td>\n",
       "      <td>43.0</td>\n",
       "      <td>Mild (40–70°F)</td>\n",
       "      <td>0.0</td>\n",
       "      <td>0.0</td>\n",
       "      <td>0.0</td>\n",
       "    </tr>\n",
       "    <tr>\n",
       "      <th>1</th>\n",
       "      <td>CUST0016</td>\n",
       "      <td>60565.0</td>\n",
       "      <td>Medium</td>\n",
       "      <td>Apartment</td>\n",
       "      <td>2022-08-07</td>\n",
       "      <td>NaN</td>\n",
       "      <td>NaT</td>\n",
       "      <td>NaN</td>\n",
       "      <td>2022-01-01</td>\n",
       "      <td>794.82</td>\n",
       "      <td>43.0</td>\n",
       "      <td>Mild (40–70°F)</td>\n",
       "      <td>0.0</td>\n",
       "      <td>0.0</td>\n",
       "      <td>0.0</td>\n",
       "    </tr>\n",
       "    <tr>\n",
       "      <th>2</th>\n",
       "      <td>CUST0001</td>\n",
       "      <td>60565.0</td>\n",
       "      <td>Medium</td>\n",
       "      <td>Multi-Family</td>\n",
       "      <td>2022-04-04</td>\n",
       "      <td>NaN</td>\n",
       "      <td>NaT</td>\n",
       "      <td>NaN</td>\n",
       "      <td>2022-02-01</td>\n",
       "      <td>756.61</td>\n",
       "      <td>26.4</td>\n",
       "      <td>Cold (&lt;40°F)</td>\n",
       "      <td>0.0</td>\n",
       "      <td>0.0</td>\n",
       "      <td>0.0</td>\n",
       "    </tr>\n",
       "    <tr>\n",
       "      <th>3</th>\n",
       "      <td>CUST0016</td>\n",
       "      <td>60565.0</td>\n",
       "      <td>Medium</td>\n",
       "      <td>Apartment</td>\n",
       "      <td>2022-08-07</td>\n",
       "      <td>NaN</td>\n",
       "      <td>NaT</td>\n",
       "      <td>NaN</td>\n",
       "      <td>2022-02-01</td>\n",
       "      <td>984.09</td>\n",
       "      <td>26.4</td>\n",
       "      <td>Cold (&lt;40°F)</td>\n",
       "      <td>0.0</td>\n",
       "      <td>0.0</td>\n",
       "      <td>0.0</td>\n",
       "    </tr>\n",
       "    <tr>\n",
       "      <th>4</th>\n",
       "      <td>CUST0001</td>\n",
       "      <td>60565.0</td>\n",
       "      <td>Medium</td>\n",
       "      <td>Multi-Family</td>\n",
       "      <td>2022-04-04</td>\n",
       "      <td>NaN</td>\n",
       "      <td>NaT</td>\n",
       "      <td>NaN</td>\n",
       "      <td>2022-03-01</td>\n",
       "      <td>726.73</td>\n",
       "      <td>29.5</td>\n",
       "      <td>Cold (&lt;40°F)</td>\n",
       "      <td>0.0</td>\n",
       "      <td>0.0</td>\n",
       "      <td>0.0</td>\n",
       "    </tr>\n",
       "    <tr>\n",
       "      <th>5</th>\n",
       "      <td>CUST0016</td>\n",
       "      <td>60565.0</td>\n",
       "      <td>Medium</td>\n",
       "      <td>Apartment</td>\n",
       "      <td>2022-08-07</td>\n",
       "      <td>NaN</td>\n",
       "      <td>NaT</td>\n",
       "      <td>NaN</td>\n",
       "      <td>2022-03-01</td>\n",
       "      <td>759.37</td>\n",
       "      <td>29.5</td>\n",
       "      <td>Cold (&lt;40°F)</td>\n",
       "      <td>0.0</td>\n",
       "      <td>0.0</td>\n",
       "      <td>0.0</td>\n",
       "    </tr>\n",
       "    <tr>\n",
       "      <th>6</th>\n",
       "      <td>CUST0001</td>\n",
       "      <td>60565.0</td>\n",
       "      <td>Medium</td>\n",
       "      <td>Multi-Family</td>\n",
       "      <td>2022-04-04</td>\n",
       "      <td>NaN</td>\n",
       "      <td>NaT</td>\n",
       "      <td>NaN</td>\n",
       "      <td>2022-04-01</td>\n",
       "      <td>742.17</td>\n",
       "      <td>50.8</td>\n",
       "      <td>Mild (40–70°F)</td>\n",
       "      <td>0.0</td>\n",
       "      <td>0.0</td>\n",
       "      <td>0.0</td>\n",
       "    </tr>\n",
       "    <tr>\n",
       "      <th>7</th>\n",
       "      <td>CUST0016</td>\n",
       "      <td>60565.0</td>\n",
       "      <td>Medium</td>\n",
       "      <td>Apartment</td>\n",
       "      <td>2022-08-07</td>\n",
       "      <td>NaN</td>\n",
       "      <td>NaT</td>\n",
       "      <td>NaN</td>\n",
       "      <td>2022-04-01</td>\n",
       "      <td>826.05</td>\n",
       "      <td>50.8</td>\n",
       "      <td>Mild (40–70°F)</td>\n",
       "      <td>0.0</td>\n",
       "      <td>0.0</td>\n",
       "      <td>0.0</td>\n",
       "    </tr>\n",
       "    <tr>\n",
       "      <th>8</th>\n",
       "      <td>CUST0001</td>\n",
       "      <td>60565.0</td>\n",
       "      <td>Medium</td>\n",
       "      <td>Multi-Family</td>\n",
       "      <td>2022-04-04</td>\n",
       "      <td>NaN</td>\n",
       "      <td>NaT</td>\n",
       "      <td>NaN</td>\n",
       "      <td>2022-05-01</td>\n",
       "      <td>786.43</td>\n",
       "      <td>46.3</td>\n",
       "      <td>Mild (40–70°F)</td>\n",
       "      <td>0.0</td>\n",
       "      <td>0.0</td>\n",
       "      <td>0.0</td>\n",
       "    </tr>\n",
       "    <tr>\n",
       "      <th>9</th>\n",
       "      <td>CUST0016</td>\n",
       "      <td>60565.0</td>\n",
       "      <td>Medium</td>\n",
       "      <td>Apartment</td>\n",
       "      <td>2022-08-07</td>\n",
       "      <td>NaN</td>\n",
       "      <td>NaT</td>\n",
       "      <td>NaN</td>\n",
       "      <td>2022-05-01</td>\n",
       "      <td>575.52</td>\n",
       "      <td>46.3</td>\n",
       "      <td>Mild (40–70°F)</td>\n",
       "      <td>0.0</td>\n",
       "      <td>0.0</td>\n",
       "      <td>0.0</td>\n",
       "    </tr>\n",
       "  </tbody>\n",
       "</table>\n",
       "</div>"
      ],
      "text/plain": [
       "  Customer ID  ZipCode Income Level  Housing Type  Join Date Program Name  \\\n",
       "0    CUST0001  60565.0       Medium  Multi-Family 2022-04-04          NaN   \n",
       "1    CUST0016  60565.0       Medium     Apartment 2022-08-07          NaN   \n",
       "2    CUST0001  60565.0       Medium  Multi-Family 2022-04-04          NaN   \n",
       "3    CUST0016  60565.0       Medium     Apartment 2022-08-07          NaN   \n",
       "4    CUST0001  60565.0       Medium  Multi-Family 2022-04-04          NaN   \n",
       "5    CUST0016  60565.0       Medium     Apartment 2022-08-07          NaN   \n",
       "6    CUST0001  60565.0       Medium  Multi-Family 2022-04-04          NaN   \n",
       "7    CUST0016  60565.0       Medium     Apartment 2022-08-07          NaN   \n",
       "8    CUST0001  60565.0       Medium  Multi-Family 2022-04-04          NaN   \n",
       "9    CUST0016  60565.0       Medium     Apartment 2022-08-07          NaN   \n",
       "\n",
       "  Enrollment Date  Program Cost Usage Date  Kwh Used  Temperature F  \\\n",
       "0             NaT           NaN 2022-01-01    959.30           43.0   \n",
       "1             NaT           NaN 2022-01-01    794.82           43.0   \n",
       "2             NaT           NaN 2022-02-01    756.61           26.4   \n",
       "3             NaT           NaN 2022-02-01    984.09           26.4   \n",
       "4             NaT           NaN 2022-03-01    726.73           29.5   \n",
       "5             NaT           NaN 2022-03-01    759.37           29.5   \n",
       "6             NaT           NaN 2022-04-01    742.17           50.8   \n",
       "7             NaT           NaN 2022-04-01    826.05           50.8   \n",
       "8             NaT           NaN 2022-05-01    786.43           46.3   \n",
       "9             NaT           NaN 2022-05-01    575.52           46.3   \n",
       "\n",
       "  TemperatureCategory  kWh_Pre_Program  kWh_Post_Program  Total kWh Saved  \n",
       "0      Mild (40–70°F)              0.0               0.0              0.0  \n",
       "1      Mild (40–70°F)              0.0               0.0              0.0  \n",
       "2        Cold (<40°F)              0.0               0.0              0.0  \n",
       "3        Cold (<40°F)              0.0               0.0              0.0  \n",
       "4        Cold (<40°F)              0.0               0.0              0.0  \n",
       "5        Cold (<40°F)              0.0               0.0              0.0  \n",
       "6      Mild (40–70°F)              0.0               0.0              0.0  \n",
       "7      Mild (40–70°F)              0.0               0.0              0.0  \n",
       "8      Mild (40–70°F)              0.0               0.0              0.0  \n",
       "9      Mild (40–70°F)              0.0               0.0              0.0  "
      ]
     },
     "execution_count": 6,
     "metadata": {},
     "output_type": "execute_result"
    }
   ],
   "source": [
    "df.head(10)"
   ]
  },
  {
   "cell_type": "markdown",
   "id": "3b019813-bb4d-4903-a3bf-9b9bcb3b85da",
   "metadata": {},
   "source": [
    "#### **Last 10 Rows of Data**"
   ]
  },
  {
   "cell_type": "code",
   "execution_count": 8,
   "id": "c5f55644-cd28-484a-820d-ac8a46e99459",
   "metadata": {
    "scrolled": true
   },
   "outputs": [
    {
     "data": {
      "text/html": [
       "<div>\n",
       "<style scoped>\n",
       "    .dataframe tbody tr th:only-of-type {\n",
       "        vertical-align: middle;\n",
       "    }\n",
       "\n",
       "    .dataframe tbody tr th {\n",
       "        vertical-align: top;\n",
       "    }\n",
       "\n",
       "    .dataframe thead th {\n",
       "        text-align: right;\n",
       "    }\n",
       "</style>\n",
       "<table border=\"1\" class=\"dataframe\">\n",
       "  <thead>\n",
       "    <tr style=\"text-align: right;\">\n",
       "      <th></th>\n",
       "      <th>Customer ID</th>\n",
       "      <th>ZipCode</th>\n",
       "      <th>Income Level</th>\n",
       "      <th>Housing Type</th>\n",
       "      <th>Join Date</th>\n",
       "      <th>Program Name</th>\n",
       "      <th>Enrollment Date</th>\n",
       "      <th>Program Cost</th>\n",
       "      <th>Usage Date</th>\n",
       "      <th>Kwh Used</th>\n",
       "      <th>Temperature F</th>\n",
       "      <th>TemperatureCategory</th>\n",
       "      <th>kWh_Pre_Program</th>\n",
       "      <th>kWh_Post_Program</th>\n",
       "      <th>Total kWh Saved</th>\n",
       "    </tr>\n",
       "  </thead>\n",
       "  <tbody>\n",
       "    <tr>\n",
       "      <th>1191</th>\n",
       "      <td>CUST0034</td>\n",
       "      <td>60563.0</td>\n",
       "      <td>Medium</td>\n",
       "      <td>Apartment</td>\n",
       "      <td>2022-04-22</td>\n",
       "      <td>Insulation Upgrade</td>\n",
       "      <td>2022-12-16</td>\n",
       "      <td>351.05</td>\n",
       "      <td>2023-04-01</td>\n",
       "      <td>775.75</td>\n",
       "      <td>103.1</td>\n",
       "      <td>Hot (&gt;70°F)</td>\n",
       "      <td>0.00</td>\n",
       "      <td>775.75</td>\n",
       "      <td>-775.75</td>\n",
       "    </tr>\n",
       "    <tr>\n",
       "      <th>1192</th>\n",
       "      <td>CUST0034</td>\n",
       "      <td>60563.0</td>\n",
       "      <td>Medium</td>\n",
       "      <td>Apartment</td>\n",
       "      <td>2022-04-22</td>\n",
       "      <td>Insulation Upgrade</td>\n",
       "      <td>2022-12-16</td>\n",
       "      <td>351.05</td>\n",
       "      <td>2023-05-01</td>\n",
       "      <td>702.86</td>\n",
       "      <td>40.6</td>\n",
       "      <td>Mild (40–70°F)</td>\n",
       "      <td>0.00</td>\n",
       "      <td>702.86</td>\n",
       "      <td>-702.86</td>\n",
       "    </tr>\n",
       "    <tr>\n",
       "      <th>1193</th>\n",
       "      <td>CUST0034</td>\n",
       "      <td>60563.0</td>\n",
       "      <td>Medium</td>\n",
       "      <td>Apartment</td>\n",
       "      <td>2022-04-22</td>\n",
       "      <td>Insulation Upgrade</td>\n",
       "      <td>2022-12-16</td>\n",
       "      <td>351.05</td>\n",
       "      <td>2023-06-01</td>\n",
       "      <td>858.02</td>\n",
       "      <td>76.0</td>\n",
       "      <td>Hot (&gt;70°F)</td>\n",
       "      <td>0.00</td>\n",
       "      <td>858.02</td>\n",
       "      <td>-858.02</td>\n",
       "    </tr>\n",
       "    <tr>\n",
       "      <th>1194</th>\n",
       "      <td>CUST0034</td>\n",
       "      <td>60563.0</td>\n",
       "      <td>Medium</td>\n",
       "      <td>Apartment</td>\n",
       "      <td>2022-04-22</td>\n",
       "      <td>Insulation Upgrade</td>\n",
       "      <td>2022-12-16</td>\n",
       "      <td>351.05</td>\n",
       "      <td>2023-07-01</td>\n",
       "      <td>795.23</td>\n",
       "      <td>38.9</td>\n",
       "      <td>Cold (&lt;40°F)</td>\n",
       "      <td>0.00</td>\n",
       "      <td>795.23</td>\n",
       "      <td>-795.23</td>\n",
       "    </tr>\n",
       "    <tr>\n",
       "      <th>1195</th>\n",
       "      <td>CUST0034</td>\n",
       "      <td>60563.0</td>\n",
       "      <td>Medium</td>\n",
       "      <td>Apartment</td>\n",
       "      <td>2022-04-22</td>\n",
       "      <td>Insulation Upgrade</td>\n",
       "      <td>2022-12-16</td>\n",
       "      <td>351.05</td>\n",
       "      <td>2023-08-01</td>\n",
       "      <td>994.62</td>\n",
       "      <td>80.0</td>\n",
       "      <td>Hot (&gt;70°F)</td>\n",
       "      <td>0.00</td>\n",
       "      <td>994.62</td>\n",
       "      <td>-994.62</td>\n",
       "    </tr>\n",
       "    <tr>\n",
       "      <th>1196</th>\n",
       "      <td>CUST0034</td>\n",
       "      <td>60563.0</td>\n",
       "      <td>Medium</td>\n",
       "      <td>Apartment</td>\n",
       "      <td>2022-04-22</td>\n",
       "      <td>Insulation Upgrade</td>\n",
       "      <td>2022-12-16</td>\n",
       "      <td>351.05</td>\n",
       "      <td>2023-09-01</td>\n",
       "      <td>659.05</td>\n",
       "      <td>84.9</td>\n",
       "      <td>Hot (&gt;70°F)</td>\n",
       "      <td>0.00</td>\n",
       "      <td>659.05</td>\n",
       "      <td>-659.05</td>\n",
       "    </tr>\n",
       "    <tr>\n",
       "      <th>1197</th>\n",
       "      <td>CUST0034</td>\n",
       "      <td>60563.0</td>\n",
       "      <td>Medium</td>\n",
       "      <td>Apartment</td>\n",
       "      <td>2022-04-22</td>\n",
       "      <td>Insulation Upgrade</td>\n",
       "      <td>2022-12-16</td>\n",
       "      <td>351.05</td>\n",
       "      <td>2023-10-01</td>\n",
       "      <td>707.66</td>\n",
       "      <td>80.8</td>\n",
       "      <td>Hot (&gt;70°F)</td>\n",
       "      <td>0.00</td>\n",
       "      <td>707.66</td>\n",
       "      <td>-707.66</td>\n",
       "    </tr>\n",
       "    <tr>\n",
       "      <th>1198</th>\n",
       "      <td>CUST0034</td>\n",
       "      <td>60563.0</td>\n",
       "      <td>Medium</td>\n",
       "      <td>Apartment</td>\n",
       "      <td>2022-04-22</td>\n",
       "      <td>Insulation Upgrade</td>\n",
       "      <td>2022-12-16</td>\n",
       "      <td>351.05</td>\n",
       "      <td>2023-11-01</td>\n",
       "      <td>856.87</td>\n",
       "      <td>46.5</td>\n",
       "      <td>Mild (40–70°F)</td>\n",
       "      <td>0.00</td>\n",
       "      <td>856.87</td>\n",
       "      <td>-856.87</td>\n",
       "    </tr>\n",
       "    <tr>\n",
       "      <th>1199</th>\n",
       "      <td>CUST0034</td>\n",
       "      <td>60563.0</td>\n",
       "      <td>Medium</td>\n",
       "      <td>Apartment</td>\n",
       "      <td>2022-04-22</td>\n",
       "      <td>Insulation Upgrade</td>\n",
       "      <td>2022-12-16</td>\n",
       "      <td>351.05</td>\n",
       "      <td>2023-12-01</td>\n",
       "      <td>545.65</td>\n",
       "      <td>29.2</td>\n",
       "      <td>Cold (&lt;40°F)</td>\n",
       "      <td>0.00</td>\n",
       "      <td>545.65</td>\n",
       "      <td>-545.65</td>\n",
       "    </tr>\n",
       "    <tr>\n",
       "      <th>1200</th>\n",
       "      <td>Total</td>\n",
       "      <td>NaN</td>\n",
       "      <td>NaN</td>\n",
       "      <td>NaN</td>\n",
       "      <td>NaT</td>\n",
       "      <td>NaN</td>\n",
       "      <td>NaT</td>\n",
       "      <td>NaN</td>\n",
       "      <td>NaT</td>\n",
       "      <td>NaN</td>\n",
       "      <td>NaN</td>\n",
       "      <td>NaN</td>\n",
       "      <td>394331.83</td>\n",
       "      <td>329391.56</td>\n",
       "      <td>64940.27</td>\n",
       "    </tr>\n",
       "  </tbody>\n",
       "</table>\n",
       "</div>"
      ],
      "text/plain": [
       "     Customer ID  ZipCode Income Level Housing Type  Join Date  \\\n",
       "1191    CUST0034  60563.0       Medium    Apartment 2022-04-22   \n",
       "1192    CUST0034  60563.0       Medium    Apartment 2022-04-22   \n",
       "1193    CUST0034  60563.0       Medium    Apartment 2022-04-22   \n",
       "1194    CUST0034  60563.0       Medium    Apartment 2022-04-22   \n",
       "1195    CUST0034  60563.0       Medium    Apartment 2022-04-22   \n",
       "1196    CUST0034  60563.0       Medium    Apartment 2022-04-22   \n",
       "1197    CUST0034  60563.0       Medium    Apartment 2022-04-22   \n",
       "1198    CUST0034  60563.0       Medium    Apartment 2022-04-22   \n",
       "1199    CUST0034  60563.0       Medium    Apartment 2022-04-22   \n",
       "1200       Total      NaN          NaN          NaN        NaT   \n",
       "\n",
       "            Program Name Enrollment Date  Program Cost Usage Date  Kwh Used  \\\n",
       "1191  Insulation Upgrade      2022-12-16        351.05 2023-04-01    775.75   \n",
       "1192  Insulation Upgrade      2022-12-16        351.05 2023-05-01    702.86   \n",
       "1193  Insulation Upgrade      2022-12-16        351.05 2023-06-01    858.02   \n",
       "1194  Insulation Upgrade      2022-12-16        351.05 2023-07-01    795.23   \n",
       "1195  Insulation Upgrade      2022-12-16        351.05 2023-08-01    994.62   \n",
       "1196  Insulation Upgrade      2022-12-16        351.05 2023-09-01    659.05   \n",
       "1197  Insulation Upgrade      2022-12-16        351.05 2023-10-01    707.66   \n",
       "1198  Insulation Upgrade      2022-12-16        351.05 2023-11-01    856.87   \n",
       "1199  Insulation Upgrade      2022-12-16        351.05 2023-12-01    545.65   \n",
       "1200                 NaN             NaT           NaN        NaT       NaN   \n",
       "\n",
       "      Temperature F TemperatureCategory  kWh_Pre_Program  kWh_Post_Program  \\\n",
       "1191          103.1         Hot (>70°F)             0.00            775.75   \n",
       "1192           40.6      Mild (40–70°F)             0.00            702.86   \n",
       "1193           76.0         Hot (>70°F)             0.00            858.02   \n",
       "1194           38.9        Cold (<40°F)             0.00            795.23   \n",
       "1195           80.0         Hot (>70°F)             0.00            994.62   \n",
       "1196           84.9         Hot (>70°F)             0.00            659.05   \n",
       "1197           80.8         Hot (>70°F)             0.00            707.66   \n",
       "1198           46.5      Mild (40–70°F)             0.00            856.87   \n",
       "1199           29.2        Cold (<40°F)             0.00            545.65   \n",
       "1200            NaN                 NaN        394331.83         329391.56   \n",
       "\n",
       "      Total kWh Saved  \n",
       "1191          -775.75  \n",
       "1192          -702.86  \n",
       "1193          -858.02  \n",
       "1194          -795.23  \n",
       "1195          -994.62  \n",
       "1196          -659.05  \n",
       "1197          -707.66  \n",
       "1198          -856.87  \n",
       "1199          -545.65  \n",
       "1200         64940.27  "
      ]
     },
     "execution_count": 8,
     "metadata": {},
     "output_type": "execute_result"
    }
   ],
   "source": [
    "df.tail(10)"
   ]
  },
  {
   "cell_type": "markdown",
   "id": "2e45f877-cb61-4519-8122-b7bb2bd164ce",
   "metadata": {},
   "source": [
    "### **4. Size of Data:**"
   ]
  },
  {
   "cell_type": "markdown",
   "id": "36637ad8-5c23-4743-9f35-fccc1c102e04",
   "metadata": {},
   "source": [
    "#### **Check No. of Columns and No. of Rows **"
   ]
  },
  {
   "cell_type": "code",
   "execution_count": 15,
   "id": "898f7014-2a00-473f-8270-e2cd2633f33f",
   "metadata": {},
   "outputs": [
    {
     "name": "stdout",
     "output_type": "stream",
     "text": [
      "Size of Data: (1201, 15)\n"
     ]
    }
   ],
   "source": [
    "print(\"Size of Data:\", df.shape)"
   ]
  },
  {
   "cell_type": "markdown",
   "id": "ee9619f7-81c6-49b7-8d16-ef541fd00cdf",
   "metadata": {},
   "source": [
    "### **5. Field Information:**"
   ]
  },
  {
   "cell_type": "code",
   "execution_count": 18,
   "id": "8e630cc9-0bbf-4caa-ae52-71afb44ba709",
   "metadata": {},
   "outputs": [
    {
     "data": {
      "text/plain": [
       "Index(['Customer ID', 'ZipCode', 'Income Level', 'Housing Type', 'Join Date',\n",
       "       'Program Name', 'Enrollment Date', 'Program Cost', 'Usage Date',\n",
       "       'Kwh Used', 'Temperature F', 'TemperatureCategory', 'kWh_Pre_Program',\n",
       "       'kWh_Post_Program', 'Total kWh Saved'],\n",
       "      dtype='object')"
      ]
     },
     "execution_count": 18,
     "metadata": {},
     "output_type": "execute_result"
    }
   ],
   "source": [
    "df.columns"
   ]
  },
  {
   "cell_type": "markdown",
   "id": "b43f3ebb-b6ae-454a-b18d-b16a5982c406",
   "metadata": {},
   "source": [
    "### **6. Data Types:**"
   ]
  },
  {
   "cell_type": "code",
   "execution_count": 21,
   "id": "9424579f-1beb-4fa3-8f65-3bd6c21461dc",
   "metadata": {},
   "outputs": [
    {
     "data": {
      "text/plain": [
       "Customer ID                    object\n",
       "ZipCode                       float64\n",
       "Income Level                   object\n",
       "Housing Type                   object\n",
       "Join Date              datetime64[ns]\n",
       "Program Name                   object\n",
       "Enrollment Date        datetime64[ns]\n",
       "Program Cost                  float64\n",
       "Usage Date             datetime64[ns]\n",
       "Kwh Used                      float64\n",
       "Temperature F                 float64\n",
       "TemperatureCategory            object\n",
       "kWh_Pre_Program               float64\n",
       "kWh_Post_Program              float64\n",
       "Total kWh Saved               float64\n",
       "dtype: object"
      ]
     },
     "execution_count": 21,
     "metadata": {},
     "output_type": "execute_result"
    }
   ],
   "source": [
    "df.dtypes"
   ]
  },
  {
   "cell_type": "markdown",
   "id": "85734638-a23c-4d4f-8e16-deb29586e2e9",
   "metadata": {},
   "source": [
    "### **7. Data Cleaning/ Data Modeling:**"
   ]
  },
  {
   "cell_type": "code",
   "execution_count": 24,
   "id": "d3f3bee1-9aba-4ad9-8d7c-80612a9c984d",
   "metadata": {},
   "outputs": [],
   "source": [
    "# df['Date'].to_datetime(df['Date']) - to change the dates from data type (object) to data type (datetime)\n",
    "# format for further analysis\n",
    "\n",
    "df['Join Date'] = pd.to_datetime(df['Join Date'], errors = 'coerce')\n",
    "df['Enrollment Date'] = pd.to_datetime(df['Enrollment Date'], errors = 'coerce')\n",
    "df['Usage Date'] = pd.to_datetime(df['Usage Date'], errors = 'coerce')"
   ]
  },
  {
   "cell_type": "code",
   "execution_count": 26,
   "id": "27f7756e-e5eb-45f3-8872-7eb8deb387b8",
   "metadata": {},
   "outputs": [
    {
     "data": {
      "text/plain": [
       "Customer ID                    object\n",
       "ZipCode                       float64\n",
       "Income Level                   object\n",
       "Housing Type                   object\n",
       "Join Date              datetime64[ns]\n",
       "Program Name                   object\n",
       "Enrollment Date        datetime64[ns]\n",
       "Program Cost                  float64\n",
       "Usage Date             datetime64[ns]\n",
       "Kwh Used                      float64\n",
       "Temperature F                 float64\n",
       "TemperatureCategory            object\n",
       "kWh_Pre_Program               float64\n",
       "kWh_Post_Program              float64\n",
       "Total kWh Saved               float64\n",
       "dtype: object"
      ]
     },
     "execution_count": 26,
     "metadata": {},
     "output_type": "execute_result"
    }
   ],
   "source": [
    "df.dtypes"
   ]
  },
  {
   "cell_type": "markdown",
   "id": "3091c20b-0731-4fa0-b97e-349f23bf5910",
   "metadata": {},
   "source": [
    "#### **Creating code for formulas needed to create KPIs and charts **"
   ]
  },
  {
   "cell_type": "code",
   "execution_count": 29,
   "id": "ee4e2d52-143b-4d90-a2c8-379a029c669e",
   "metadata": {},
   "outputs": [
    {
     "name": "stdout",
     "output_type": "stream",
     "text": [
      "Participation Count: 40\n",
      "Adoption Rate: 0.03330557868442964\n"
     ]
    }
   ],
   "source": [
    "# Finding the...\n",
    "# Participation Count\n",
    "# Total Customer Count\n",
    "# Adoption Rate\n",
    "\n",
    "# Filter rows where 'Enrollment Date' is not NaT and count unique 'Customer \n",
    "ParticipationCount =  df[df['Enrollment Date'].notna()]['Customer ID'].nunique() \n",
    "\n",
    "                #nunique- retrieves the distinct # of Customer IDs\n",
    "\n",
    "TotalCustomers = df['Customer ID'].count()\n",
    "\n",
    "Adoption_Rate = ParticipationCount / TotalCustomers\n",
    "\n",
    "print('Participation Count:', ParticipationCount)\n",
    "print(\"Adoption Rate:\", Adoption_Rate)\n"
   ]
  },
  {
   "cell_type": "code",
   "execution_count": 31,
   "id": "67c7ecbd-5712-46af-a491-ef64f2e869e5",
   "metadata": {},
   "outputs": [
    {
     "name": "stdout",
     "output_type": "stream",
     "text": [
      "Average kWh Pre-Program: 790.2441482965932\n",
      "Average kWh Post-Program: 714.5153145336226\n",
      "Average Energy Saved: 75.72883376297057\n",
      "Average Energy Used: 752.9854833333333\n"
     ]
    }
   ],
   "source": [
    "# Finding the...\n",
    "# Average kWh Pre-Program\n",
    "# Average kWH Post-Program\n",
    "# Average Energy Saved\n",
    "# Average Energy Used\n",
    "\n",
    "# Filtered rows where both dates are present and Usage Date < Enrollment Date\n",
    "filtered_df_pre = df[df['Usage Date'].notna() & df['Enrollment Date'].notna() & (df['Usage Date'] < df['Enrollment Date'])]\n",
    "\n",
    "Avg_kwh_preprogram = filtered_df_pre['Kwh Used'].mean()\n",
    "\n",
    "\n",
    "\n",
    "# Filtered rows where both dates are present and Usage Date >= Enrollment Date\n",
    "filtered_df_post = df[df['Usage Date'].notna() & df['Enrollment Date'].notna() & (df['Usage Date'] >= df['Enrollment Date'])]\n",
    "\n",
    "Avg_kwh_postprogram = filtered_df_post['Kwh Used'].mean()\n",
    "\n",
    "\n",
    "Avg_Energy_Saved = Avg_kwh_preprogram - Avg_kwh_postprogram\n",
    "\n",
    "\n",
    "Avg_Energy_Used = df['Kwh Used'].mean()\n",
    "\n",
    "\n",
    "print('Average kWh Pre-Program:', Avg_kwh_preprogram)\n",
    "print('Average kWh Post-Program:', Avg_kwh_postprogram)\n",
    "print('Average Energy Saved:', Avg_Energy_Saved)\n",
    "print('Average Energy Used:', Avg_Energy_Used)\n"
   ]
  },
  {
   "cell_type": "code",
   "execution_count": 33,
   "id": "3165bf08-db88-40a0-b8a1-d13c795c6990",
   "metadata": {},
   "outputs": [
    {
     "name": "stdout",
     "output_type": "stream",
     "text": [
      "Avgerage Program Cost: 425.7465\n",
      "Total kWh Pre-Program: 394331.82999999996\n",
      "Total kWh-Post_Program: 329391.56\n",
      "Total Program Cost: 408716.64\n",
      "Total kWh Saved: 64940.26999999996\n",
      "Total kWh Used: 903582.58\n",
      "Program_Cost_Per_kWh_Saved: 6.293731763049341\n"
     ]
    }
   ],
   "source": [
    "# Finding the...\n",
    "# kWh Pre-Program \n",
    "# kWh Post-Program\n",
    "# Total Energy (kWh) Saved\n",
    "# Total Energy (kWh) Used\n",
    "\n",
    "# Average Program Cost \n",
    "# Program Cost Per kWh Saved \n",
    "# Total Program Cost \n",
    "\n",
    "Avg_Program_Cost = df['Program Cost'].mean()\n",
    "\n",
    "kWh_Pre_Program= filtered_df_pre['Kwh Used'].sum()\n",
    "\n",
    "kWh_Post_Program = filtered_df_post['Kwh Used'].sum()\n",
    "\n",
    "Total_Program_Cost = df['Program Cost'].dropna().sum()\n",
    "\n",
    "Total_kWh_Saved = kWh_Pre_Program -  kWh_Post_Program\n",
    "\n",
    "Total_kWh_Used = df['Kwh Used'].sum()\n",
    "\n",
    "\n",
    "\n",
    "if 'Total_kWh_Saved' !=0: \n",
    "\tProgram_Cost_Per_kWh_Saved =  Total_Program_Cost / Total_kWh_Saved\n",
    "else: \n",
    "\tProgram_Cost_Per_kWh_Saved = np.non  #equivalent to BLANK()\n",
    "\n",
    "\n",
    "print('Avgerage Program Cost:', Avg_Program_Cost)\n",
    "print('Total kWh Pre-Program:', kWh_Pre_Program)\n",
    "print('Total kWh-Post_Program:', kWh_Post_Program)\n",
    "print('Total Program Cost:', Total_Program_Cost)\n",
    "print('Total kWh Saved:', Total_kWh_Saved)\n",
    "print('Total kWh Used:', Total_kWh_Used)\n",
    "\n",
    "print('Program_Cost_Per_kWh_Saved:', Program_Cost_Per_kWh_Saved)\n"
   ]
  },
  {
   "cell_type": "code",
   "execution_count": 35,
   "id": "5fe02c67-2ac5-44fa-9c43-0642bd1a689d",
   "metadata": {},
   "outputs": [],
   "source": [
    "# Finding the...\n",
    "# Temperature Category\n",
    "\n",
    "def TemperatureCat(temp): \n",
    "    if pd.isna (temp):\n",
    "        return np.nan\n",
    "    elif temp < 40:\n",
    "        return 'Cold(<40°F)'\n",
    "    elif 40 <= temp <= 70:\n",
    "        return 'Mild (40–70°F)'\n",
    "    elif temp > 70:\n",
    "        return 'Hot (>70°F)'\n",
    "    else:\n",
    "        return np.nan\n",
    "        \n",
    "df['TemperatureCategory'] = df['Temperature F']. apply(TemperatureCat)\n"
   ]
  },
  {
   "cell_type": "code",
   "execution_count": 37,
   "id": "003f9531-bb72-4d60-98e2-ab3f6fc57fe6",
   "metadata": {},
   "outputs": [
    {
     "name": "stdout",
     "output_type": "stream",
     "text": [
      "Percent Enrolled After Join: 74.51\n"
     ]
    }
   ],
   "source": [
    "# Finding the...\n",
    "# Percent of Customers Enrolled After Join (PercentEnrolledAfterJoin)\n",
    "\n",
    "Tot_Customers = df['Customer ID'].nunique()\n",
    "\n",
    "Enrolled_After_Join = df[df['Enrollment Date'] > df['Join Date'] ] ['Customer ID'].nunique()\n",
    "\n",
    "if Tot_Customers == 0:\n",
    "    Percent_Enrolled_After_Join = np.nan\n",
    "else:\n",
    "    Percent_Enrolled_After_Join = round((Enrolled_After_Join / Tot_Customers) * 100, 2)\n",
    "\n",
    "\n",
    "print('Percent Enrolled After Join:', Percent_Enrolled_After_Join)"
   ]
  },
  {
   "cell_type": "code",
   "execution_count": null,
   "id": "f966fc55-acb1-403e-8859-108390a93141",
   "metadata": {},
   "outputs": [],
   "source": []
  },
  {
   "cell_type": "markdown",
   "id": "554f63a2-d64a-49e5-867e-9ce256e64051",
   "metadata": {},
   "source": [
    "### **8. Business Requirments:**"
   ]
  },
  {
   "cell_type": "markdown",
   "id": "ce4ecb56-f108-492a-942d-594788e9d80a",
   "metadata": {},
   "source": [
    "#### **8a. KPI Requriments:**"
   ]
  },
  {
   "cell_type": "code",
   "execution_count": 42,
   "id": "1364f7dd-dfa7-46a4-b25b-60ac9b485aaa",
   "metadata": {},
   "outputs": [
    {
     "name": "stdout",
     "output_type": "stream",
     "text": [
      "Total kWh Pre-Program: 394331.82999999996\n",
      "Total kWh-Post_Program: 329391.56\n",
      "Average kWh Pre-Program: 790.2441482965932\n",
      "Average kWh Post-Program: 714.5153145336226\n",
      "Participation Count: 40\n",
      "Total kWh Saved: 64940.26999999996\n",
      "Total kWh Used: 903582.58\n"
     ]
    }
   ],
   "source": [
    "# KPIs...\n",
    "# kWh Pre-Program \n",
    "# kWh Post-Program\n",
    "# Average kWh Pre-Program\n",
    "# Average kWH Post-Program\n",
    "# Participation Count\n",
    "# Total Energy (kWh) Saved\n",
    "# Total Energy (kWh) Used\n",
    "\n",
    "\n",
    "print('Total kWh Pre-Program:', kWh_Pre_Program)\n",
    "print('Total kWh-Post_Program:', kWh_Post_Program)\n",
    "print('Average kWh Pre-Program:', Avg_kwh_preprogram)\n",
    "print('Average kWh Post-Program:', Avg_kwh_postprogram)\n",
    "print('Participation Count:', ParticipationCount)\n",
    "print('Total kWh Saved:', Total_kWh_Saved)\n",
    "print('Total kWh Used:', Total_kWh_Used)\n"
   ]
  },
  {
   "cell_type": "markdown",
   "id": "0e16a00c-b8bf-4a94-ae33-0c2dbf3eebf8",
   "metadata": {},
   "source": [
    "### **9. Charts Requriments:**"
   ]
  },
  {
   "cell_type": "markdown",
   "id": "ca8a7d22-ba59-4f25-8964-1dc00f8a5b12",
   "metadata": {},
   "source": [
    "#### **9a. Total kWh Saved By Housing Type**"
   ]
  },
  {
   "cell_type": "code",
   "execution_count": 46,
   "id": "c63f9a2d-339d-45d0-a66d-540351172676",
   "metadata": {},
   "outputs": [
    {
     "data": {
      "text/plain": [
       "Customer ID                    object\n",
       "ZipCode                       float64\n",
       "Income Level                   object\n",
       "Housing Type                   object\n",
       "Join Date              datetime64[ns]\n",
       "Program Name                   object\n",
       "Enrollment Date        datetime64[ns]\n",
       "Program Cost                  float64\n",
       "Usage Date             datetime64[ns]\n",
       "Kwh Used                      float64\n",
       "Temperature F                 float64\n",
       "TemperatureCategory            object\n",
       "kWh_Pre_Program               float64\n",
       "kWh_Post_Program              float64\n",
       "Total kWh Saved               float64\n",
       "dtype: object"
      ]
     },
     "execution_count": 46,
     "metadata": {},
     "output_type": "execute_result"
    }
   ],
   "source": [
    "df.dtypes"
   ]
  },
  {
   "cell_type": "code",
   "execution_count": 48,
   "id": "502d3cc8-1519-458d-a0e7-2baa0c01e4f6",
   "metadata": {},
   "outputs": [],
   "source": [
    "df['ZipCode']= df['ZipCode'].astype(object)"
   ]
  },
  {
   "cell_type": "code",
   "execution_count": 50,
   "id": "353e6d90-3fd7-4914-8b57-0c52ec92d721",
   "metadata": {},
   "outputs": [
    {
     "data": {
      "image/png": "[encoded data removed]",
      "text/plain": [
       "<Figure size 1000x600 with 1 Axes>"
      ]
     },
     "metadata": {},
     "output_type": "display_data"
    }
   ],
   "source": [
    "kWh_by_housetype = df.groupby('Housing Type') ['Total kWh Saved'].sum().sort_values(ascending=False)\n",
    "\n",
    "plt.figure(figsize=(10,6))\n",
    "bars = plt.bar(kWh_by_housetype.index,kWh_by_housetype.values)\n",
    "\n",
    "plt.xticks(rotation=90)\n",
    "plt.xlabel('Housing Type')\n",
    "plt.ylabel('Total kWh Saved')\n",
    "plt.title('Total kWh Saved By Housing Type')\n",
    "\n",
    "for bar in bars: \n",
    "    plt.text(bar.get_x()+ bar.get_width()/ 2, bar.get_height(),\n",
    "            f'{bar.get_height():,.0f}',ha='center', va='bottom', fontsize=8)\n",
    "plt.tight_layout()\n",
    "plt.show()"
   ]
  },
  {
   "cell_type": "markdown",
   "id": "bb41019e-4597-4637-9616-743a93bb65cb",
   "metadata": {},
   "source": [
    "#### **9b. Total kWh Saved By Income Level**"
   ]
  },
  {
   "cell_type": "code",
   "execution_count": 53,
   "id": "373f49fe-26b6-4330-b7a5-aa96962160d9",
   "metadata": {},
   "outputs": [
    {
     "data": {
      "image/png": "[encoded data removed]",
      "text/plain": [
       "<Figure size 1000x600 with 1 Axes>"
      ]
     },
     "metadata": {},
     "output_type": "display_data"
    }
   ],
   "source": [
    "kWh_by_incomelvl = df.groupby('Income Level') ['Total kWh Saved'].sum().sort_values(ascending=False)\n",
    "\n",
    "plt.figure(figsize=(10,6))\n",
    "bars = plt.bar(kWh_by_incomelvl.index,kWh_by_incomelvl.values)\n",
    "\n",
    "plt.xticks(rotation=90)\n",
    "plt.xlabel('Income Level')\n",
    "plt.ylabel('Total kWh Saved')\n",
    "plt.title('Total kWh Saved By Income Level')\n",
    "\n",
    "for bar in bars: \n",
    "    plt.text(bar.get_x()+ bar.get_width()/ 2, bar.get_height(),\n",
    "            f'{bar.get_height():,.0f}',ha='center', va='bottom', fontsize=8)\n",
    "plt.tight_layout()\n",
    "plt.show()"
   ]
  },
  {
   "cell_type": "markdown",
   "id": "580602fa-1bf1-4f43-a3f7-9d1843970fb4",
   "metadata": {},
   "source": [
    "#### **9b. Total kWh Saved By Zip Code**"
   ]
  },
  {
   "cell_type": "code",
   "execution_count": 56,
   "id": "161d6a9d-6249-4bd0-88b9-a1a8821ec1dc",
   "metadata": {},
   "outputs": [
    {
     "data": {
      "image/png": "[encoded data removed]",
      "text/plain": [
       "<Figure size 640x480 with 1 Axes>"
      ]
     },
     "metadata": {},
     "output_type": "display_data"
    }
   ],
   "source": [
    "kWhSaved_by_Zip = df.groupby('ZipCode')['Total kWh Saved'].sum().abs()\n",
    "\n",
    "# Optional: explode a specific zip code if needed\n",
    "explode = [0.1 if label == 60564.0 else 0 for label in kWhSaved_by_Zip.index]\n",
    "\n",
    "# Define a function to show actual values in the pie slices\n",
    "def absolute_value(val):\n",
    "    total = sum(kWhSaved_by_Zip)\n",
    "    absolute = int(round(val/100 * total))\n",
    "    return f'{absolute:,} kWh'  \n",
    "\n",
    "# Plot\n",
    "plt.pie(\n",
    "    kWhSaved_by_Zip,\n",
    "    labels=kWhSaved_by_Zip.index,\n",
    "    autopct=absolute_value,     \n",
    "    startangle=90,\n",
    "    explode=explode\n",
    ")\n",
    "\n",
    "plt.title('Total kWh Saved By Zip Code')\n",
    "plt.axis('equal')  # Equal aspect ratio ensures pie is drawn as a circle.\n",
    "plt.tight_layout()\n",
    "plt.show()\n"
   ]
  },
  {
   "cell_type": "markdown",
   "id": "bcf4fe2f-a2d4-4ef8-8643-6208b5895c27",
   "metadata": {},
   "source": [
    "#### **9d. Total kWh Used By Zip Code**"
   ]
  },
  {
   "cell_type": "code",
   "execution_count": 59,
   "id": "707778d4-7ce7-4b31-9253-5b37e2d3348c",
   "metadata": {},
   "outputs": [
    {
     "data": {
      "image/png": "[encoded data removed]",
      "text/plain": [
       "<Figure size 640x480 with 1 Axes>"
      ]
     },
     "metadata": {},
     "output_type": "display_data"
    }
   ],
   "source": [
    "kWhUsed_by_Zip = df.groupby('ZipCode')['Kwh Used'].sum().abs()\n",
    "\n",
    "# Optional: explode a specific zip code if needed\n",
    "explode = [0.1 if label == 60565.0 else 0 for label in kWhUsed_by_Zip.index]\n",
    "\n",
    "def absolute_value(val):\n",
    "    total = sum(kWhUsed_by_Zip)\n",
    "    absolute = int(round(val/100 * total))\n",
    "    return f'{absolute:,} kWh'  \n",
    "\n",
    "# Plot\n",
    "plt.pie(\n",
    "    kWhUsed_by_Zip,\n",
    "    labels=kWhUsed_by_Zip.index,\n",
    "    autopct=absolute_value,     \n",
    "    startangle=90,\n",
    "    explode=explode\n",
    ")\n",
    "\n",
    "plt.title('Total kWh Used By Zip Code')\n",
    "plt.axis('equal')  # Equal aspect ratio ensures pie is drawn as a circle.\n",
    "plt.tight_layout()\n",
    "plt.show()\n"
   ]
  },
  {
   "cell_type": "markdown",
   "id": "6dc540f7-2733-4c73-bfb2-e8240c18d947",
   "metadata": {},
   "source": [
    "#### **10d. Participation by Income Level**"
   ]
  },
  {
   "cell_type": "code",
   "execution_count": 62,
   "id": "2052050b-a60e-4cdc-a42d-2e0a43b35e06",
   "metadata": {},
   "outputs": [
    {
     "data": {
      "text/plain": [
       "Customer ID                    object\n",
       "ZipCode                        object\n",
       "Income Level                   object\n",
       "Housing Type                   object\n",
       "Join Date              datetime64[ns]\n",
       "Program Name                   object\n",
       "Enrollment Date        datetime64[ns]\n",
       "Program Cost                  float64\n",
       "Usage Date             datetime64[ns]\n",
       "Kwh Used                      float64\n",
       "Temperature F                 float64\n",
       "TemperatureCategory            object\n",
       "kWh_Pre_Program               float64\n",
       "kWh_Post_Program              float64\n",
       "Total kWh Saved               float64\n",
       "dtype: object"
      ]
     },
     "execution_count": 62,
     "metadata": {},
     "output_type": "execute_result"
    }
   ],
   "source": [
    "df.dtypes"
   ]
  },
  {
   "cell_type": "code",
   "execution_count": 64,
   "id": "44a8c342-6001-463e-b807-20428fe1b168",
   "metadata": {},
   "outputs": [
    {
     "data": {
      "image/png": "[encoded data removed]",
      "text/plain": [
       "<Figure size 800x500 with 1 Axes>"
      ]
     },
     "metadata": {},
     "output_type": "display_data"
    }
   ],
   "source": [
    "Total_E_Usage = df.groupby(['Program Name','TemperatureCategory'])['Kwh Used'].sum().unstack()\n",
    "Total_E_Usage = Total_E_Usage [['Mild (40–70°F)','Cold(<40°F)','Hot (>70°F)']]\n",
    "\n",
    "\n",
    "ax = Total_E_Usage.plot(kind ='bar',figsize=(8,5),title='Total Energy Usage by Program Name')\n",
    "plt.xlabel('Program Name')\n",
    "plt.ylabel('kWh')\n",
    "plt.legend(title= 'Temperature Category')\n",
    "\n",
    "\n",
    "for bars in ax.containers:\n",
    "    for bar in bars:\n",
    "        height = bar.get_height()\n",
    "        ax.text(\n",
    "            bar.get_x() + bar.get_width() / 2,\n",
    "            height,\n",
    "            f'{height:,.0f}',\n",
    "            ha='center',\n",
    "            va='bottom',\n",
    "            fontsize=8\n",
    "        )\n",
    "\n",
    "plt.tight_layout()\n",
    "plt.show()"
   ]
  }
 ],
 "metadata": {
  "kernelspec": {
   "display_name": "Python [conda env:base] *",
   "language": "python",
   "name": "conda-base-py"
  },
  "language_info": {
   "codemirror_mode": {
    "name": "ipython",
    "version": 3
   },
   "file_extension": ".py",
   "mimetype": "text/x-python",
   "name": "python",
   "nbconvert_exporter": "python",
   "pygments_lexer": "ipython3",
   "version": "3.12.7"
  }
 },
 "nbformat": 4,
 "nbformat_minor": 5
}
